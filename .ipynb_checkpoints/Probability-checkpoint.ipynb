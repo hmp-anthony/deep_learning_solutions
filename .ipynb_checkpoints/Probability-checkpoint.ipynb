{
 "cells": [
  {
   "cell_type": "markdown",
   "id": "eebf783a-07fe-4d04-80b1-57b1a96a5980",
   "metadata": {},
   "source": [
    "First we are asked to plot $$\\sigma(x) = \\frac{1}{1+e^{-x}},$$\n",
    "$$ \\zeta(x) = \\log(1+e^x).$$"
   ]
  },
  {
   "cell_type": "markdown",
   "id": "468c9646-2128-4e84-bcc7-632f4ea7c881",
   "metadata": {},
   "source": [
    "When $x$ is small $e^{-x} \\approx 1$, so $\\sigma(x)$ intersects the $y$ axis at $\\frac{1}{2}$. For large negative $x$, $e^{-x}$ is very large and for large positive $x$, $e^{-x}$ is very small. Hence $\\sigma(x) \\approx 0$ for large negative $x$ and $\\sigma(x) \\approx 1$ for large positive $x$.\n",
    "\n",
    "Similarly we can say that when $x$ is large and negative $\\zeta \\approx \\log(1) = 0$. When $x = 0$, we have a $y$-intercept of $\\log(2) \\approx 0.7$. As $x$ gets large, $1+e^{x} \\rightarrow e^x$. What I mean by this last statement is that out of $1$ and $e^x$, $e^x$ dominantes the expression. Hence $\\log(1+e^{x}) \\rightarrow x$.\n",
    "\n",
    "The graphs are given below:"
   ]
  },
  {
   "cell_type": "markdown",
   "id": "4cdd6bdf-5c20-46ae-9a3f-48640d979fcc",
   "metadata": {},
   "source": [
    "![alt text](Probability_Image1.png \"Title\")"
   ]
  },
  {
   "cell_type": "markdown",
   "id": "99836446-0cbc-40fb-85df-244b35a378bb",
   "metadata": {},
   "source": [
    "By multiplying $\\sigma(x)$ on the top and bottom, we obtain:\n",
    "$$\\sigma(x) = \\frac{e^x}{e^x + 1}.  $$"
   ]
  },
  {
   "cell_type": "markdown",
   "id": "0d789d8e-6b2f-4b66-8b3b-0b0fef2f4b98",
   "metadata": {},
   "source": [
    "Also, $$ \\frac{d \\sigma(x)}{dx}  = -1 \\times (1+e^{-x} )^{-2} \\times -1 \\times e^{-x} = \\frac{e^{-x}}{(1+e^{-x})^2} = \\frac{1+e^{-x} - 1}{(1+e^{-x})^2} = \\frac{1}{1+e^{-x}}\\bigg(1- \\frac{1}{1+e^{-x}} \\bigg) = \\sigma(x)(1-\\sigma(x)). $$"
   ]
  },
  {
   "cell_type": "markdown",
   "id": "ab5fe125-e821-46d1-8a77-43a8d8444936",
   "metadata": {},
   "source": [
    "The next result is very simple: $$ \\sigma(x) + \\sigma(-x) = \\frac{1}{1+e^{-x}} + \\frac{1}{1+e^{x}} = \\frac{e^x + 2 + e^{-x}}{(1+e^x)(1+e^{-x})} = 1.$$"
   ]
  },
  {
   "cell_type": "markdown",
   "id": "ee8c383b-416d-4cbe-a297-67b28f935927",
   "metadata": {},
   "source": [
    "Next, $$ \\log \\sigma(x) = \\log \\frac{1}{1+e^{-x}} = \\log(1) - \\log(1+e^{-x}) =  - \\log(1+e^{-x}) = -\\zeta(-x).$$"
   ]
  },
  {
   "cell_type": "markdown",
   "id": "615aeb8b-3221-41ce-b69d-8243059dd019",
   "metadata": {},
   "source": [
    "The next two indentites require us to find inverses:\n",
    "\n",
    "Let $$y = \\frac{1}{1+e^{-x}} \\implies \\frac{1}{y}  = 1+ e^{-x} \\implies \\frac{1 - y}{y} = e^{-x} \\implies \\log\\bigg(\\frac{y}{1-y}\\bigg) = x.$$\n",
    "\n",
    "Hence: $$ \\sigma^{-1}(x) = \\log\\bigg(\\frac{x}{1-x}\\bigg). $$"
   ]
  },
  {
   "cell_type": "markdown",
   "id": "bec5c3d8-b95b-43c2-9ac9-109d2e3dc05d",
   "metadata": {},
   "source": [
    "For the other inverse: $$ y = \\log(1+e^x)  \\implies e^y = 1 + e^x \\implies \\log(e^y -1) = x.$$\n",
    "Hence:\n",
    "$$ \\zeta^{-1}(x) = \\log(e^x -1). $$ "
   ]
  },
  {
   "cell_type": "markdown",
   "id": "48cac198-b164-4c88-aa1c-d63499ae31e3",
   "metadata": {},
   "source": [
    "Now for some integration, $$ \\int_{-\\infty}^{x} \\sigma(y) dy = \\int_{-\\infty}^{x} \\frac{1}{1+e^{-y}} dy.$$\n",
    "If we let $z=e^{-y}$, then $\\frac{dz}{dy} = -e^{-y} = -z.$ Making the substitution, we obtain:\n",
    "\n",
    "$$ \\int_{-\\infty}^{x} \\frac{1}{1+e^{-y}} dy = \\int_{e^{-x}}^{\\infty} \\frac{1}{z(z+1)} dz = \\int_{e^{-x}}^{\\infty} \\frac{1}{z} - \\frac{1}{z+1} dz = \\bigg[\\log z - \\log(z+1)\\bigg]_{e^{-x}}^{\\infty} = \\bigg[\\log\\bigg(\\frac{z}{z+1}\\bigg)\\bigg]_{e^{-x}}^{\\infty} = \\log\\bigg(\\frac{e^{-x} + 1}{e^{-x}}\\bigg) = \\log(1+e^x) = \\zeta(x).$$"
   ]
  },
  {
   "cell_type": "markdown",
   "id": "5692acf7-3813-4090-b127-35503c829b4b",
   "metadata": {},
   "source": [
    "Finally: $$ \\zeta(x) - \\zeta(-x) = \\log(1+e^x) - \\log(1+e^{-x}) = \\log \\bigg(\\frac{1+e^x}{1+e^{-x}}\\bigg) = \\log \\bigg(\\frac{e^{x}(1+e^{-x})}{1+e^{-x}}\\bigg) = \\log(e^x) = x,$$ as required."
   ]
  },
  {
   "cell_type": "markdown",
   "id": "03412a82-4ecc-450a-880c-86401ada6292",
   "metadata": {},
   "source": [
    "We now need to prove some results around probability mass functions. The first is quite easy:\n",
    "$$P(0) + P(1) = 1-\\phi + \\phi = 1.$$\n",
    "For the expectation and variance, let $X$ be a random variable with the probability mass function $P$:\n",
    "$$ E[X] = \\sum_{x = 0}^{1} x P(x) = \\phi,$$\n",
    "$$ Var(X) = E(X^2) - [E(X)]^2 = \\phi - \\phi^2 = \\phi(1-\\phi).$$"
   ]
  },
  {
   "cell_type": "markdown",
   "id": "1dcda30b-e29f-4354-b01f-23852a80b1b4",
   "metadata": {},
   "source": [
    "For the second mass function: $$ \\sum_{k=0}^{n} {n \\choose k} \\phi^k (1-\\phi)^{n-k} = (\\phi + (1-\\phi))^n = 1.$$"
   ]
  },
  {
   "cell_type": "markdown",
   "id": "04d51fa9-e347-41aa-8ced-20845ee201c4",
   "metadata": {},
   "source": [
    "I did this the hard way (just take a look on proofwiki): Define $$E(X)  = \\sum_{k=0}^{n} {n \\choose k} \\phi^k (1-\\phi)^{n-k}.$$\n",
    "Since $$\\sum_{k=0}^{n} {n \\choose k} \\phi^k (1-\\phi)^{n-k} = 1,$$\n",
    "we can differentiate with respect to $\\phi$ to obtain:\n",
    "$$ 0 = \\frac{1}{\\phi}E(X) + \\frac{1}{1-\\phi}E(X) - \\frac{n}{1-\\phi} \\implies E(X) = n\\phi.$$"
   ]
  },
  {
   "cell_type": "code",
   "execution_count": null,
   "id": "52fb17aa-244b-4d8e-9749-65c08f61645e",
   "metadata": {},
   "outputs": [],
   "source": []
  }
 ],
 "metadata": {
  "kernelspec": {
   "display_name": "Python 3 (ipykernel)",
   "language": "python",
   "name": "python3"
  },
  "language_info": {
   "codemirror_mode": {
    "name": "ipython",
    "version": 3
   },
   "file_extension": ".py",
   "mimetype": "text/x-python",
   "name": "python",
   "nbconvert_exporter": "python",
   "pygments_lexer": "ipython3",
   "version": "3.11.2"
  }
 },
 "nbformat": 4,
 "nbformat_minor": 5
}

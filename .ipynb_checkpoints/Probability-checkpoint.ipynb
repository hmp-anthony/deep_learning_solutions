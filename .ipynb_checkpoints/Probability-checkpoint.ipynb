{
 "cells": [
  {
   "cell_type": "markdown",
   "id": "eebf783a-07fe-4d04-80b1-57b1a96a5980",
   "metadata": {},
   "source": [
    "First we are asked to plot $$\\sigma(x) = \\frac{1}{1+e^{-x}},$$\n",
    "$$ \\zeta(x) = \\log(1+e^x).$$"
   ]
  },
  {
   "cell_type": "markdown",
   "id": "468c9646-2128-4e84-bcc7-632f4ea7c881",
   "metadata": {},
   "source": [
    "When $x$ is small $e^{-x} \\approx 1$, so $\\sigma(x)$ intersects the $y$ axis at $\\frac{1}{2}$. For large negative $x$, $e^{-x}$ is very large and for large positive $x$, $e^{-x}$ is very small. Hence $\\sigma(x) \\approx 0$ for large negative $x$ and $\\sigma(x) \\approx 1$ for large positive $x$.\n",
    "\n",
    "Similarly we can say that when $x$ is large and negative $\\zeta \\approx \\log(1) = 0$. When $x = 0$, we have a $y$-intercept of $\\log(2) \\approx 0.7$. As $x$ gets large, $1+e^{x} \\rightarrow e^x$. What I mean by this last statement is that out of $1$ and $e^x$, $e^x$ dominantes the expression. Hence $\\log(1+e^{x}) \\rightarrow x$.\n",
    "\n",
    "The graphs are given below:"
   ]
  },
  {
   "cell_type": "markdown",
   "id": "4cdd6bdf-5c20-46ae-9a3f-48640d979fcc",
   "metadata": {},
   "source": [
    "![alt text](Probability_Image1.png \"Title\")"
   ]
  },
  {
   "cell_type": "code",
   "execution_count": null,
   "id": "c772f531-3209-4dbe-8611-1297bcb6c355",
   "metadata": {},
   "outputs": [],
   "source": []
  }
 ],
 "metadata": {
  "kernelspec": {
   "display_name": "Python 3 (ipykernel)",
   "language": "python",
   "name": "python3"
  },
  "language_info": {
   "codemirror_mode": {
    "name": "ipython",
    "version": 3
   },
   "file_extension": ".py",
   "mimetype": "text/x-python",
   "name": "python",
   "nbconvert_exporter": "python",
   "pygments_lexer": "ipython3",
   "version": "3.11.2"
  }
 },
 "nbformat": 4,
 "nbformat_minor": 5
}

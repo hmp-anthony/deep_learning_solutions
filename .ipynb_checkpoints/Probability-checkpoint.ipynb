{
 "cells": [
  {
   "cell_type": "markdown",
   "id": "eebf783a-07fe-4d04-80b1-57b1a96a5980",
   "metadata": {},
   "source": [
    "First we are asked to plot $$\\sigma(x) = \\frac{1}{1+e^{-x}},$$\n",
    "$$ \\zeta(x) = \\log(1+e^x).$$"
   ]
  },
  {
   "cell_type": "markdown",
   "id": "468c9646-2128-4e84-bcc7-632f4ea7c881",
   "metadata": {},
   "source": [
    "When $x$ is small $e^{-x} \\approx 1$, so $\\sigma(x)$ intersects the $y$ axis at $\\frac{1}{2}$. For large negative $x$, $e^{-x}$ is very large and for large positive $x$, $e^{-x}$ is very small. Hence $\\sigma(x) \\approx 0$ for large negative $x$ and $\\sigma(x) \\approx 1$ for large positive $x$.\n",
    "\n",
    "Similarly we can say that when $x$ is large and negative $\\zeta \\approx \\log(1) = 0$. When $x = 0$, we have a $y$-intercept of $\\log(2) \\approx 0.7$. As $x$ gets large, $1+e^{x} \\rightarrow e^x$. What I mean by this last statement is that out of $1$ and $e^x$, $e^x$ dominantes the expression. Hence $\\log(1+e^{x}) \\rightarrow x$.\n",
    "\n",
    "The graphs are given below:"
   ]
  },
  {
   "cell_type": "markdown",
   "id": "4cdd6bdf-5c20-46ae-9a3f-48640d979fcc",
   "metadata": {},
   "source": [
    "![alt text](Probability_Image1.png \"Title\")"
   ]
  },
  {
   "cell_type": "markdown",
   "id": "99836446-0cbc-40fb-85df-244b35a378bb",
   "metadata": {},
   "source": [
    "By multiplying $\\sigma(x)$ on the top and bottom, we obtain:\n",
    "$$\\sigma(x) = \\frac{e^x}{e^x + 1}.  $$"
   ]
  },
  {
   "cell_type": "markdown",
   "id": "0d789d8e-6b2f-4b66-8b3b-0b0fef2f4b98",
   "metadata": {},
   "source": [
    "Also, $$ \\frac{d \\sigma(x)}{dx}  = -1 \\times (1+e^{-x} )^{-2} \\times -1 \\times e^{-x} = \\frac{e^{-x}}{(1+e^{-x})^2} = \\frac{1+e^{-x} - 1}{(1+e^{-x})^2} = \\frac{1}{1+e^{-x}}\\bigg(1- \\frac{1}{1+e^{-x}} \\bigg) = \\sigma(x)(1-\\sigma(x)). $$"
   ]
  },
  {
   "cell_type": "markdown",
   "id": "ab5fe125-e821-46d1-8a77-43a8d8444936",
   "metadata": {},
   "source": [
    "The next result is very simple: $$ \\sigma(x) + \\sigma(-x) = \\frac{1}{1+e^{-x}} + \\frac{1}{1+e^{x}} = \\frac{e^x + 2 + e^{-x}}{(1+e^x)(1+e^{-x})} = 1.$$"
   ]
  },
  {
   "cell_type": "code",
   "execution_count": null,
   "id": "633a2921-9a39-45a5-b6b4-1ff6aadcc4fc",
   "metadata": {},
   "outputs": [],
   "source": []
  }
 ],
 "metadata": {
  "kernelspec": {
   "display_name": "Python 3 (ipykernel)",
   "language": "python",
   "name": "python3"
  },
  "language_info": {
   "codemirror_mode": {
    "name": "ipython",
    "version": 3
   },
   "file_extension": ".py",
   "mimetype": "text/x-python",
   "name": "python",
   "nbconvert_exporter": "python",
   "pygments_lexer": "ipython3",
   "version": "3.11.2"
  }
 },
 "nbformat": 4,
 "nbformat_minor": 5
}

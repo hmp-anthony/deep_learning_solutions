{
 "cells": [
  {
   "cell_type": "markdown",
   "id": "f92e2707-8aae-4dfd-8315-d2ab8458456c",
   "metadata": {},
   "source": [
    "# Q1"
   ]
  },
  {
   "cell_type": "markdown",
   "id": "4714823c-5411-40d2-9e9d-2ab9903d7ba9",
   "metadata": {},
   "source": [
    "Prove that $\\textbf{x}\\textbf{B}\\textbf{x} = 0$ if $\\textbf{B}$ is the anti-symmetric part of a matrix $\\textbf{A}$."
   ]
  },
  {
   "cell_type": "markdown",
   "id": "5fa3ee4a-a4be-4f71-be79-4ac08c4e678f",
   "metadata": {},
   "source": [
    "$$\\textbf{x}^T(\\textbf{A} - \\textbf{A}^T)\\textbf{x} = \\textbf{x}^T\\textbf{A}\\textbf{x} - \\textbf{x}^T\\textbf{A}^T\\textbf{x} = \\textbf{x}^T(\\textbf{A}\\textbf{x}) - (\\textbf{A}\\textbf{x})^T\\textbf{x} = 0$$"
   ]
  },
  {
   "cell_type": "markdown",
   "id": "1b23268b-503b-46ce-8da4-5f3f1193edec",
   "metadata": {},
   "source": [
    "# Q2"
   ]
  },
  {
   "cell_type": "markdown",
   "id": "d482cd1c-7c61-4292-b89f-95e7dfa5adc7",
   "metadata": {},
   "source": [
    "What is the gradient of $tr(\\mathbf{A})$?"
   ]
  },
  {
   "cell_type": "markdown",
   "id": "6c3436e3-1ef7-45f5-ad30-bff11fbf985b",
   "metadata": {},
   "source": [
    "$$\\lim_{\\delta \\mathbf{A} \\to 0} \\frac{tr(\\mathbf{A} + \\delta \\mathbf{A} ) - tr(\\mathbf{A})}{\\delta \\mathbf{A}} = \\lim_{\\delta \\mathbf{A} \\to 0} \\frac{tr(\\delta \\mathbf{A})}{\\delta \\mathbf{A}} = \\lim_{\\delta \\mathbf{A} \\to 0} \\bigg[ \\frac{\\sum_{i}\\delta A_{ii}}{\\delta A_{ij}}\\bigg]_{i,j} = \\mathbb{I}$$"
   ]
  },
  {
   "cell_type": "markdown",
   "id": "7550bfc5-a35a-4bcc-9767-3532f9c3daeb",
   "metadata": {},
   "source": [
    "# Q3"
   ]
  },
  {
   "cell_type": "markdown",
   "id": "4399b14b-2c80-4df1-acd6-87dd37aad7a2",
   "metadata": {},
   "source": [
    "Find the gradient of the sigmoid function:\n",
    "$$ \\sigma(\\mathbf{x}) = \\frac{1}{1 + \\text{exp}(-\\mathbf{w}^T\\mathbf{x}) } $$\n",
    "Let us look at the partial derivatives:"
   ]
  },
  {
   "cell_type": "markdown",
   "id": "bd7c9d12-866a-49a0-b185-88f2ff4ff1f6",
   "metadata": {},
   "source": [
    "$$ \\frac{\\partial \\sigma}{\\partial x_i} = -1(1 + \\text{exp}(-\\Sigma_i w_ix_i))^{-2} \\times \\frac{\\partial}{\\partial x_i}(1 + \\text{exp}(-\\Sigma_i w_ix_i)) $$\n",
    "$$= -1(1 + \\text{exp}(-\\Sigma_i w_ix_i))^{-2} \\times \\frac{\\partial}{\\partial x_i}(\\text{exp}(-\\Sigma_i w_ix_i)) $$\n"
   ]
  },
  {
   "cell_type": "markdown",
   "id": "35e2933b-28b2-45b0-8b5d-d257de31a947",
   "metadata": {},
   "source": [
    "We need the chain rule: If $ h(x) = f(g(x))$, then $h'(x) = f'(g(x))g'(x)$"
   ]
  },
  {
   "cell_type": "markdown",
   "id": "3cc7f50e-9edb-459e-955f-9168e539cc66",
   "metadata": {},
   "source": [
    "$f(x) = e^x \\implies f'(x) = e^x$, and $g(\\textbf{x}) = -\\Sigma_i w_ix_i \\implies \\frac{\\partial g}{\\partial x_i} = -w_i$"
   ]
  },
  {
   "cell_type": "markdown",
   "id": "e756f31e-e13c-49bd-875b-1e744b05d2de",
   "metadata": {},
   "source": [
    "Hence $$ \\frac{\\partial \\sigma}{\\partial x_i} = w_i \\frac{\\text{exp}(-\\Sigma_i w_ix_i)}{(1+\\text{exp}(-\\Sigma_i w_ix_i))^2}$$"
   ]
  },
  {
   "cell_type": "markdown",
   "id": "b2f9f18c-bb9c-4a66-bf3d-8399f6ae4b3f",
   "metadata": {},
   "source": [
    "Now if we let $e =  \\text{exp}(-\\mathbf{w}^T\\mathbf{x})$, \n",
    "$$ \\frac{\\partial \\sigma}{\\partial x_i} = w_i \\frac{e}{(1+e)^2} = w_i \\frac{e+1 -1}{(1+e)^2} = w_i\\bigg[ \\frac{1}{1+e} - \\frac{1}{(1+e)^2} \\bigg] = w_i\\sigma(1-\\sigma)$$"
   ]
  },
  {
   "cell_type": "code",
   "execution_count": null,
   "id": "620ffa11-e63d-4cd9-bb40-f63e8f94f76f",
   "metadata": {},
   "outputs": [],
   "source": []
  }
 ],
 "metadata": {
  "kernelspec": {
   "display_name": "Python 3 (ipykernel)",
   "language": "python",
   "name": "python3"
  },
  "language_info": {
   "codemirror_mode": {
    "name": "ipython",
    "version": 3
   },
   "file_extension": ".py",
   "mimetype": "text/x-python",
   "name": "python",
   "nbconvert_exporter": "python",
   "pygments_lexer": "ipython3",
   "version": "3.11.2"
  }
 },
 "nbformat": 4,
 "nbformat_minor": 5
}
